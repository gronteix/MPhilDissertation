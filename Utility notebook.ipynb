{
 "cells": [
  {
   "cell_type": "markdown",
   "metadata": {},
   "source": [
    "# Utility Notebook\n",
    "\n",
    "This notebook serves as a platform to generate the data from the experimental image sequence. It is organized in three distinct parts. We first manipulate images on the notebook to determine the optimal image processing parameters. We then segment the images and track the particles. Finally, we post-process the data and save it."
   ]
  },
  {
   "cell_type": "code",
   "execution_count": null,
   "metadata": {
    "collapsed": true
   },
   "outputs": [],
   "source": [
    "import numpy as np\n",
    "import matplotlib.pyplot as plt\n",
    "\n",
    "# Import file management tools. \n",
    "import os \n",
    "import shutil\n",
    "import pandas\n",
    "\n",
    "# Image processing tools\n",
    "import skimage\n",
    "import skimage.io\n",
    "import skimage.filters\n",
    "import skimage.morphology\n",
    "import skimage.segmentation\n",
    "import skimage.measure\n",
    "import skimage.feature\n",
    "import scipy.ndimage\n",
    "import skimage.data\n",
    "from skimage import img_as_float\n",
    "import scipy.misc\n",
    "from PIL import Image\n",
    "\n",
    "import sys\n",
    "\n",
    "# Magic function to make matplotlib inline; other style specs must come AFTER\n",
    "%matplotlib inline"
   ]
  },
  {
   "cell_type": "markdown",
   "metadata": {},
   "source": [
    "We then import the specific functions."
   ]
  },
  {
   "cell_type": "code",
   "execution_count": null,
   "metadata": {
    "collapsed": true
   },
   "outputs": [],
   "source": [
    "# Segmentation and feature extractionm\n",
    "import grayscale_analysis\n",
    "import grayscale_segmentation\n",
    "\n",
    "# Track creation\n",
    "import PreferenceCreation\n",
    "import GaleShapley\n",
    "import Linking\n",
    "\n",
    "# Post-processing\n",
    "import LinkLooseEnds\n",
    "import MassMerge\n",
    "\n",
    "# Feature extraction\n",
    "import DisplacementProperties"
   ]
  },
  {
   "cell_type": "markdown",
   "metadata": {},
   "source": [
    "## 1) Parameter estimation\n",
    "\n",
    "The first step consists in importing the image stack."
   ]
  },
  {
   "cell_type": "code",
   "execution_count": null,
   "metadata": {
    "collapsed": true
   },
   "outputs": [],
   "source": [
    "file_dir = 'FILE FOLDER'\n",
    "data_dir = 'EXPERIMENT NUMBER'\n",
    "seg_dir = 'LOCATION OF THE SEGMENTED IMAGES'\n",
    "save_dir = 'LOCATION OF THE EXTRACTED DATA'"
   ]
  },
  {
   "cell_type": "code",
   "execution_count": null,
   "metadata": {
    "collapsed": true
   },
   "outputs": [],
   "source": [
    "rep_raw = file_dir + data_dir\n",
    "rep_data = save_dir + seg_dir + data_dir + '/image folder'\n",
    "rep_prop = save_dir + seg_dir + data_dir + '/property folder'\n",
    "rep_link = save_dir + seg_dir + data_dir + '/link folder'\n",
    "rep_pref = save_dir + seg_dir + data_dir + '/preferences folder'\n",
    "rep_link_prop = save_dir + seg_dir + data_dir"
   ]
  },
  {
   "cell_type": "markdown",
   "metadata": {},
   "source": [
    "The values below determine the properties of the segmentation algorithm. These values have been optimized through trial and error on cell slide images. They are to be adapted locally for each image.\n",
    "\n",
    "The orientation type refers to the procedure chosen. \n",
    "\n",
    " - 'naive': we measure the cell orientation by fitting an ellipse with the cell as it has been segmented.\n",
    " - 'luminosity': we measure the cell orientation by fitting an ellipse with the 20% most luminous pixels.\n",
    " \n",
    "The 'invert' variable refers to the relative color of the cells to the background. If 'True', we invert the pixel values in order to have cells with lower luminosty values than the background."
   ]
  },
  {
   "cell_type": "code",
   "execution_count": null,
   "metadata": {
    "collapsed": true
   },
   "outputs": [],
   "source": [
    "cells = 'A NUMBER BETWEEN 0 AND 1'\n",
    "background = 'A NUMBER BETWEEN 0 AND 1'\n",
    "\n",
    "min_size = 'MINIMUM CELL SIZE'\n",
    "min_dist = 'MINIMUM DISTANCE BETWEEN TWO CELLS'\n",
    "\n",
    "orientation = 'naive'/'luminosty'\n",
    "invert = True/False"
   ]
  },
  {
   "cell_type": "code",
   "execution_count": null,
   "metadata": {},
   "outputs": [],
   "source": [
    "n = 'IMAGE NUMBER'\n",
    "threshold = 'LUMINOSITY THRESHOLD'\n",
    "sigma = 'AN INT'\n",
    "\n",
    "os.chdir(rep_raw)\n",
    "file_list  = sorted(os.listdir(rep_raw))\n",
    "file_list.sort(key=len, reverse=False)\n",
    "\n",
    "im = grayscale_segmentation._contrast_enhance(file_list[n], rep_raw, threshold, sigma, invert)\n",
    "fig = plt.figure(figsize=(5,5))\n",
    "plt.imshow(im, cmap = plt.cm.gray)"
   ]
  },
  {
   "cell_type": "markdown",
   "metadata": {},
   "source": [
    "Once the choice of the parameters is settled we can move on to the study of the images."
   ]
  },
  {
   "cell_type": "code",
   "execution_count": null,
   "metadata": {
    "collapsed": true
   },
   "outputs": [],
   "source": [
    "seg = grayscale_segmentation._image_segment_none(im, cells, background, min_size, min_dist)"
   ]
  },
  {
   "cell_type": "code",
   "execution_count": null,
   "metadata": {},
   "outputs": [],
   "source": [
    "fig = plt.figure(figsize=(10,10))\n",
    "plt.imshow(im, cmap = plt.cm.gray)\n",
    "plt.imshow(seg, cmap = plt.cm.spectral, alpha = 0.3)\n",
    "plt.colorbar()"
   ]
  },
  {
   "cell_type": "markdown",
   "metadata": {},
   "source": [
    "When the parameters have been chosen, we launch the segmentation algorithm. This program will create a folder where all the segmented images will be kept for future use purposes in a '.npy' array."
   ]
  },
  {
   "cell_type": "code",
   "execution_count": null,
   "metadata": {
    "scrolled": true
   },
   "outputs": [],
   "source": [
    "grayscale_segmentation._get_stack_grayscale(rep_raw, threshold, sigma, cells, \n",
    "                         background, min_size, min_dist, 'naive', rep_data, invert)"
   ]
  },
  {
   "cell_type": "markdown",
   "metadata": {},
   "source": [
    "## 2) Image analysis: property extraction and linking\n",
    "\n",
    "Now that we have generated and saved the segmented images we can move on to analysing them. This step should be the most time-consuming one. If the option \"orientation\" is set to False, the average time per frame is around 1'30\". This is linear in the number of particles detected per frame."
   ]
  },
  {
   "cell_type": "code",
   "execution_count": null,
   "metadata": {
    "collapsed": true
   },
   "outputs": [],
   "source": [
    "results = grayscale_analysis._get_properties_stack(rep_data, rep_prop, rep_raw, orientation)"
   ]
  },
  {
   "cell_type": "markdown",
   "metadata": {},
   "source": [
    "Thanks to the function above we have created data frames which contain all the measured features from the different cells. Once these are extracted, we have to link cells between each other. This is first achieved by creating the preferred potential links for each cell, then, with help of the modified Gale-Shapley algorithm, we link each cell to its counterpart in the next frame."
   ]
  },
  {
   "cell_type": "code",
   "execution_count": null,
   "metadata": {
    "collapsed": true
   },
   "outputs": [],
   "source": [
    "r = 'DISTANCE IN PIXELS'\n",
    "cost = 'MAX VALUE OF THE COST FUNCTION'\n",
    "cost_type = 'distance'"
   ]
  },
  {
   "cell_type": "code",
   "execution_count": null,
   "metadata": {
    "collapsed": true
   },
   "outputs": [],
   "source": [
    "PreferenceCreation._get_preferences_stack(r, min_size, cost, cost_type, rep_prop, rep_pref)"
   ]
  },
  {
   "cell_type": "code",
   "execution_count": null,
   "metadata": {
    "collapsed": true
   },
   "outputs": [],
   "source": [
    "sys.setrecursionlimit(5000)\n",
    "\n",
    "GaleShapley._get_linking(rep_pref, rep_link)"
   ]
  },
  {
   "cell_type": "markdown",
   "metadata": {},
   "source": [
    "We generate trajectories by linking the measured properties for each cell to each other. We generate a new data frame that is saved."
   ]
  },
  {
   "cell_type": "code",
   "execution_count": null,
   "metadata": {
    "collapsed": true
   },
   "outputs": [],
   "source": [
    "df = Linking._get_prop_frame(rep_prop, rep_link,rep_link_prop)"
   ]
  },
  {
   "cell_type": "code",
   "execution_count": null,
   "metadata": {
    "collapsed": true
   },
   "outputs": [],
   "source": [
    "current_dir = os.getcwd()\n",
    "os.chdir(rep_link_prop)\n",
    "df = pandas.read_csv('PropertyFrame')\n",
    "os.chdir(current_dir)"
   ]
  },
  {
   "cell_type": "markdown",
   "metadata": {},
   "source": [
    "## 3) Post-processing\n",
    "\n",
    "We then correct for the major causes of mis-linking: one cell segmented as two and the non-segmentation of a cell over several frames. The parameters have to be adapted for each experiment."
   ]
  },
  {
   "cell_type": "code",
   "execution_count": null,
   "metadata": {
    "collapsed": true
   },
   "outputs": [],
   "source": [
    "dist = 'MAX LINKING DISTANCE'\n",
    "pc = 'MASS CHANGE PERCENTAGE'\n",
    "# defines the level of precision that the sum of the two particles has to have\n",
    "# with regard to the individual cell masses.\n",
    "\n",
    "ef, df = MassMerge._mass_merger(df, dist, pc)"
   ]
  },
  {
   "cell_type": "code",
   "execution_count": null,
   "metadata": {},
   "outputs": [],
   "source": [
    "memory = 'MEMORY'\n",
    "dist = 'MAX LINKING DISTANCE'\n",
    "\n",
    "ef, df = LinkLooseEnds._link_ends(df, memory, dist)"
   ]
  },
  {
   "cell_type": "code",
   "execution_count": null,
   "metadata": {
    "collapsed": true
   },
   "outputs": [],
   "source": [
    "os.chdir(rep_link_prop)\n",
    "df.to_csv('PropertyFrameOrdered', index = False)"
   ]
  },
  {
   "cell_type": "markdown",
   "metadata": {},
   "source": [
    "## 4) Final feature extraction\n",
    "\n",
    "We extract the information related to cell movement."
   ]
  },
  {
   "cell_type": "code",
   "execution_count": null,
   "metadata": {
    "collapsed": true
   },
   "outputs": [],
   "source": [
    "ResultFrame = DisplacementProperties._get_dynamic_prop(dfp)"
   ]
  },
  {
   "cell_type": "code",
   "execution_count": null,
   "metadata": {
    "collapsed": true
   },
   "outputs": [],
   "source": [
    "current_dir = os.getcwd()\n",
    "os.chdir(rep_link_prop)\n",
    "ResultFrame.to_csv('PropertyFrameOrdered', index = False)\n",
    "os.chdir(current_dir)"
   ]
  },
  {
   "cell_type": "code",
   "execution_count": null,
   "metadata": {
    "collapsed": true
   },
   "outputs": [],
   "source": []
  }
 ],
 "metadata": {
  "kernelspec": {
   "display_name": "Python 3",
   "language": "python",
   "name": "python3"
  },
  "language_info": {
   "codemirror_mode": {
    "name": "ipython",
    "version": 3
   },
   "file_extension": ".py",
   "mimetype": "text/x-python",
   "name": "python",
   "nbconvert_exporter": "python",
   "pygments_lexer": "ipython3",
   "version": "3.6.2"
  }
 },
 "nbformat": 4,
 "nbformat_minor": 2
}
